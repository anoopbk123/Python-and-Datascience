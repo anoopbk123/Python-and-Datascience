{
 "cells": [
  {
   "cell_type": "markdown",
   "id": "02b6741a",
   "metadata": {},
   "source": [
    "## Instructions: Do not use any Python libraries and write the following codes from scratch for best learning/ revision."
   ]
  },
  {
   "cell_type": "markdown",
   "id": "e8dff07b",
   "metadata": {},
   "source": [
    "### Q1. Come up with a function that divides the first input by the second input:"
   ]
  },
  {
   "cell_type": "code",
   "execution_count": 1,
   "id": "e3c05019",
   "metadata": {},
   "outputs": [
    {
     "name": "stdout",
     "output_type": "stream",
     "text": [
      "2.5\n"
     ]
    }
   ],
   "source": [
    "#ToDo: Write your code here\n",
    "def divide(n1,n2):\n",
    "    print(n1/n2)\n",
    "\n",
    "n1=int(input('enter a number'))\n",
    "n2=int(input('enter the second number'))\n",
    "divide(n1,n2)"
   ]
  },
  {
   "cell_type": "markdown",
   "id": "f0a5dbe6",
   "metadata": {},
   "source": [
    "### Q2. Use the function <code>con</code> for the following question.\n",
    "##### Use the con function for the following question\n",
    "<p><code>def con(a, b):\n",
    "    return(a + b)</code></p>"
   ]
  },
  {
   "cell_type": "code",
   "execution_count": 2,
   "id": "7083b4ae",
   "metadata": {},
   "outputs": [
    {
     "name": "stdout",
     "output_type": "stream",
     "text": [
      "12\n"
     ]
    }
   ],
   "source": [
    "#ToDo: Write your code here\n",
    "def con(a,b):\n",
    "    return(a+b)\n",
    "\n",
    "a=5\n",
    "b=7\n",
    "c=con(a,b)\n",
    "print(c)"
   ]
  },
  {
   "cell_type": "markdown",
   "id": "0805a7dc",
   "metadata": {},
   "source": [
    "### Q3. Can the <code>con</code> function we defined before be used to add to integers or strings?"
   ]
  },
  {
   "cell_type": "code",
   "execution_count": null,
   "id": "eb5962c5",
   "metadata": {},
   "outputs": [],
   "source": [
    "#ToDo: Write your code here\n",
    "#yes"
   ]
  },
  {
   "cell_type": "markdown",
   "id": "a93bd789",
   "metadata": {},
   "source": [
    "### Q4. Write a function called draw_rectangle that takes two arguments length and height and prints an outcome an length * height box consisting of asterisks. <br> \n",
    "- Call that function with length = 5 and height = 3\n",
    "- Call that function with length = 10 and height = 5"
   ]
  },
  {
   "cell_type": "code",
   "execution_count": 3,
   "id": "097d8a20",
   "metadata": {},
   "outputs": [
    {
     "name": "stdout",
     "output_type": "stream",
     "text": [
      "15\n",
      "50\n"
     ]
    }
   ],
   "source": [
    "#ToDo: Write your code here\n",
    "def draw_rectangle(length,height):\n",
    "    print(length*height)\n",
    "\n",
    "draw_rectangle(5,3)\n",
    "draw_rectangle(10,5)"
   ]
  },
  {
   "cell_type": "markdown",
   "id": "549ca061",
   "metadata": {},
   "source": [
    "### Q5. Write a function called sum_digits that is given an integer num and returns the sum of the digits of sum."
   ]
  },
  {
   "cell_type": "code",
   "execution_count": 7,
   "id": "7596a1de",
   "metadata": {},
   "outputs": [
    {
     "name": "stdout",
     "output_type": "stream",
     "text": [
      "the sum of digits is  12\n"
     ]
    }
   ],
   "source": [
    "#ToDo: Write your code here\n",
    "def sum_digits(number):\n",
    "    number=int(number)\n",
    "    sum = 0\n",
    "    while number > 0:\n",
    "        r = number % 10\n",
    "        sum += r\n",
    "        number=number / 10\n",
    "        number=int(number)\n",
    "    return sum\n",
    "\n",
    "\n",
    "num = int(input('enter a number'))\n",
    "s = sum_digits(num)\n",
    "print('the sum of digits is ', s)\n"
   ]
  },
  {
   "cell_type": "markdown",
   "id": "b67baf83",
   "metadata": {},
   "source": [
    "### Q6. Write a function called len_upper that accepts string as input and returns the number of capital letters present in the string. If no capital letters are present in the then prints the error message in the function then returns -1 as output."
   ]
  },
  {
   "cell_type": "code",
   "execution_count": 11,
   "id": "424654e9",
   "metadata": {},
   "outputs": [
    {
     "name": "stdout",
     "output_type": "stream",
     "text": [
      "number of capital letters is  0\n",
      "error\n"
     ]
    }
   ],
   "source": [
    "#ToDo: Write your code here\n",
    "def len_upper(string):\n",
    "    count = 0\n",
    "    for i in range(0,len(string)):\n",
    "        if string[i].isupper():\n",
    "            count = count + 1\n",
    "    print('number of capital letters is ', count)\n",
    "    if count == 0:\n",
    "        return -1\n",
    "\n",
    "\n",
    "string = str(input('enter a string'))\n",
    "result = len_upper(string)\n",
    "if result == -1:\n",
    "    print(\"error\")\n"
   ]
  },
  {
   "cell_type": "markdown",
   "id": "d4a8e311",
   "metadata": {},
   "source": [
    "### Q7. Explore different built in functions available on string data structure for <br>\n",
    "        - determining whether a string is alphanumeric or not\n",
    "        - finding out index of a substring\n",
    "        - finding out whether string is identifier or not"
   ]
  },
  {
   "cell_type": "code",
   "execution_count": 21,
   "id": "65edbec5",
   "metadata": {},
   "outputs": [
    {
     "name": "stdout",
     "output_type": "stream",
     "text": [
      "True\n",
      "6\n",
      "True\n"
     ]
    }
   ],
   "source": [
    "#ToDo: Write your code here\n",
    "import string\n",
    "s=str(input('enter string'))\n",
    "print(s.isalnum())\n",
    "s1='hello hai'\n",
    "print(s1.find('hai'))\n",
    "print(s.isidentifier())\n"
   ]
  },
  {
   "cell_type": "markdown",
   "id": "2b959d89",
   "metadata": {},
   "source": [
    "### Q8. Explore following Python built in functions. <br>\n",
    "- abs\n",
    "- dir\n",
    "- eval\n",
    "- format\n",
    "- range \n",
    "- round"
   ]
  },
  {
   "cell_type": "code",
   "execution_count": 31,
   "id": "0d36f568",
   "metadata": {},
   "outputs": [
    {
     "name": "stdout",
     "output_type": "stream",
     "text": [
      "abs  8.6789\n",
      "['__abs__', '__add__', '__bool__', '__ceil__', '__class__', '__delattr__', '__dir__', '__divmod__', '__doc__', '__eq__', '__float__', '__floor__', '__floordiv__', '__format__', '__ge__', '__getattribute__', '__getformat__', '__getnewargs__', '__gt__', '__hash__', '__init__', '__init_subclass__', '__int__', '__le__', '__lt__', '__mod__', '__mul__', '__ne__', '__neg__', '__new__', '__pos__', '__pow__', '__radd__', '__rdivmod__', '__reduce__', '__reduce_ex__', '__repr__', '__rfloordiv__', '__rmod__', '__rmul__', '__round__', '__rpow__', '__rsub__', '__rtruediv__', '__setattr__', '__setformat__', '__sizeof__', '__str__', '__sub__', '__subclasshook__', '__truediv__', '__trunc__', 'as_integer_ratio', 'conjugate', 'fromhex', 'hex', 'imag', 'is_integer', 'real']\n",
      "16\n",
      "hello-8.6789 hai-8.6789\n",
      "0\n",
      "1\n",
      "2\n",
      "3\n",
      "4\n",
      "-9\n"
     ]
    }
   ],
   "source": [
    "#ToDo: Write your code here\n",
    "num=-8.6789\n",
    "print('abs ',abs(num))\n",
    "print(dir(num))\n",
    "print(eval('1+3*5'))\n",
    "print('hello{} hai{}'.format(num,num))\n",
    "for i in range(0,5):\n",
    "        print(i)\n",
    "print(round(num))"
   ]
  },
  {
   "cell_type": "markdown",
   "id": "b09f7445",
   "metadata": {},
   "source": [
    "### Q9. Explore the functions in built-in module.\n",
    "    - calendar\n",
    "    - datetime"
   ]
  },
  {
   "cell_type": "code",
   "execution_count": 38,
   "id": "83f9eea9",
   "metadata": {},
   "outputs": [
    {
     "name": "stdout",
     "output_type": "stream",
     "text": [
      "     July 2024\n",
      "Mo Tu We Th Fr Sa Su\n",
      " 1  2  3  4  5  6  7\n",
      " 8  9 10 11 12 13 14\n",
      "15 16 17 18 19 20 21\n",
      "22 23 24 25 26 27 28\n",
      "29 30 31\n",
      "\n",
      "date is  2023-01-01\n"
     ]
    }
   ],
   "source": [
    "#ToDo: Write your code here\n",
    "import calendar\n",
    "from datetime import date\n",
    "yy=2024\n",
    "mm=7\n",
    "print(calendar.month(yy,mm))\n",
    "Date=date(2023,1,1)\n",
    "print('date is ',Date)"
   ]
  },
  {
   "cell_type": "markdown",
   "id": "e341e5e8",
   "metadata": {},
   "source": [
    "### Q10. Write a function call one_way that takes two strings and returns True if the strings are of the same length and differ in exactly one letter, like bike/hike or water/wafer."
   ]
  },
  {
   "cell_type": "code",
   "execution_count": 46,
   "id": "ca3fa669",
   "metadata": {},
   "outputs": [
    {
     "name": "stdout",
     "output_type": "stream",
     "text": [
      "True\n"
     ]
    }
   ],
   "source": [
    "#ToDo: Write your code here\n",
    "def one_way(s1,s2):\n",
    "    if s1==s2 :\n",
    "        print(False)\n",
    "    elif len(s1)==len(s2) and s1[1:len(s1)]==s2[1:len(s2)]:\n",
    "        print(True)\n",
    "    else:\n",
    "        print(False)\n",
    "s1=str(input(\"enter 1st string\"))\n",
    "s2=str(input(\"enter 2nd string\"))\n",
    "one_way(s1,s2)"
   ]
  }
 ],
 "metadata": {
  "kernelspec": {
   "display_name": "Python 3.9.13 64-bit",
   "language": "python",
   "name": "python3"
  },
  "language_info": {
   "codemirror_mode": {
    "name": "ipython",
    "version": 3
   },
   "file_extension": ".py",
   "mimetype": "text/x-python",
   "name": "python",
   "nbconvert_exporter": "python",
   "pygments_lexer": "ipython3",
   "version": "3.9.13"
  },
  "vscode": {
   "interpreter": {
    "hash": "f6246b25e200e4c5124e3e61789ac81350562f0761bbcf92ad9e48654207659c"
   }
  }
 },
 "nbformat": 4,
 "nbformat_minor": 5
}
