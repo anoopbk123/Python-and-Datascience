{
 "cells": [
  {
   "cell_type": "markdown",
   "id": "02b6741a",
   "metadata": {},
   "source": [
    "## Instructions: Do not use any Python libraries and write the following codes from scratch for best learning/ revision."
   ]
  },
  {
   "cell_type": "markdown",
   "id": "e8dff07b",
   "metadata": {},
   "source": [
    "### Q1. Write a program that asks user to enter a length in centimeters. If negative value is entered, the program should tell the user that the entry is invalid. Otherwise the program should convert the length to inches and print out the result. There are 2.54 centimeters in inches."
   ]
  },
  {
   "cell_type": "code",
   "execution_count": 3,
   "id": "e3c05019",
   "metadata": {},
   "outputs": [
    {
     "name": "stdout",
     "output_type": "stream",
     "text": [
      "length in inches  22.86\n"
     ]
    }
   ],
   "source": [
    "#ToDo: Write your code here\n",
    "length=float(input(\"enter lenght in centimeter\"))\n",
    "if length>=0:\n",
    "    print('length in inches ',length*2.54)\n",
    "else:\n",
    "    print(\"entry is invlid\")\n"
   ]
  },
  {
   "cell_type": "markdown",
   "id": "f0a5dbe6",
   "metadata": {},
   "source": [
    "### Q2. Write a program that accepts sentence from the user as input and then print the unique words present in that sentense along with the number of times they appeared in the sentence. Don't use any of the built in fuction or other data structure."
   ]
  },
  {
   "cell_type": "code",
   "execution_count": 4,
   "id": "7083b4ae",
   "metadata": {},
   "outputs": [
    {
     "name": "stdout",
     "output_type": "stream",
     "text": [
      "frequency of apple is  2\n",
      "frequency of mango is  1\n"
     ]
    }
   ],
   "source": [
    "#ToDo: Write your code here\n",
    "sentence=str(input(\"enter the sentance\"))\n",
    "sentence=sentence.split( )\n",
    "str2=[]\n",
    "for i in sentence:\n",
    "    if i not in str2:\n",
    "        str2.append(i)\n",
    "for j in range(0,len(str2)):\n",
    "    print('frequency of', str2[j], 'is ',sentence.count(str2[j]))\n",
    "\n",
    "\n"
   ]
  },
  {
   "cell_type": "markdown",
   "id": "0805a7dc",
   "metadata": {},
   "source": [
    "### Q3. Write a program that accepts sentence from the user as input and then print the location of each vowel in the sentence."
   ]
  },
  {
   "cell_type": "code",
   "execution_count": 10,
   "id": "eb5962c5",
   "metadata": {},
   "outputs": [
    {
     "name": "stdout",
     "output_type": "stream",
     "text": [
      "the vovels in the position of:\n",
      "1\n",
      "4\n",
      "7\n",
      "8\n"
     ]
    }
   ],
   "source": [
    "#ToDo: Write your code here\n",
    "sentence=str(input(\"enter the sentence\"))\n",
    "print('the vovels in the position of:')\n",
    "for i in range(0,len(sentence)):\n",
    "    if sentence[i]=='a' or sentence[i]=='e' or sentence[i]=='i' or sentence[i]=='o' or sentence[i]=='u':\n",
    "        print(i)\n"
   ]
  },
  {
   "cell_type": "markdown",
   "id": "a93bd789",
   "metadata": {},
   "source": [
    "### Q4. Write a program that asks user to enter a word and determines whether the word is palindrome or not. A palindrome is a word that read the same backwards as forwards."
   ]
  },
  {
   "cell_type": "code",
   "execution_count": 13,
   "id": "097d8a20",
   "metadata": {},
   "outputs": [
    {
     "name": "stdout",
     "output_type": "stream",
     "text": [
      "the word is a palindrome\n"
     ]
    }
   ],
   "source": [
    "#ToDo: Write your code here\n",
    "word=str(input(\"enter a word\"))\n",
    "rew=word[::-1]\n",
    "if rew==word:\n",
    "    print('the word is a palindrome')\n",
    "else :\n",
    "    print(\"the word is not palindrome\")"
   ]
  },
  {
   "cell_type": "markdown",
   "id": "549ca061",
   "metadata": {},
   "source": [
    "### Q5. Write a <code>for</code> loop the prints out all the element between <b>-5</b> and <b>5</b> using the range function."
   ]
  },
  {
   "cell_type": "code",
   "execution_count": 14,
   "id": "7596a1de",
   "metadata": {},
   "outputs": [
    {
     "name": "stdout",
     "output_type": "stream",
     "text": [
      "-5\n",
      "-4\n",
      "-3\n",
      "-2\n",
      "-1\n",
      "0\n",
      "1\n",
      "2\n",
      "3\n",
      "4\n",
      "5\n"
     ]
    }
   ],
   "source": [
    "#ToDo: Write your code here\n",
    "for i in range(-5,6):\n",
    "    print(i)"
   ]
  },
  {
   "cell_type": "markdown",
   "id": "b67baf83",
   "metadata": {},
   "source": [
    "### Q6. Write a program using while loop that prints square and cube of numbers between 1 to 10."
   ]
  },
  {
   "cell_type": "code",
   "execution_count": 15,
   "id": "424654e9",
   "metadata": {},
   "outputs": [
    {
     "name": "stdout",
     "output_type": "stream",
     "text": [
      "square  1 cube  1\n",
      "square  4 cube  8\n",
      "square  9 cube  27\n",
      "square  16 cube  64\n",
      "square  25 cube  125\n",
      "square  36 cube  216\n",
      "square  49 cube  343\n",
      "square  64 cube  512\n",
      "square  81 cube  729\n",
      "square  100 cube  1000\n"
     ]
    }
   ],
   "source": [
    "#ToDo: Write your code here\n",
    "n=1\n",
    "while n<11:\n",
    "    print('square ',n*n,'cube ',n**3)\n",
    "    n+=1"
   ]
  },
  {
   "cell_type": "markdown",
   "id": "d4a8e311",
   "metadata": {},
   "source": [
    "### Q7. Write a program that asks the user to enter the password. If the user enters the right password, the program should tell them they are logged in to the system. Otherwise, the program should ask them to reenter the password. The user should get only five tries to enter the password, after which point the program should tell them that they are kicked off of the system."
   ]
  },
  {
   "cell_type": "code",
   "execution_count": 19,
   "id": "65edbec5",
   "metadata": {},
   "outputs": [
    {
     "name": "stdout",
     "output_type": "stream",
     "text": [
      "reenter password\n",
      "reenter password\n",
      "reenter password\n",
      "reenter password\n",
      "yourkicked out of the system\n"
     ]
    }
   ],
   "source": [
    "#ToDo: Write your code here\n",
    "password=str('#1234')\n",
    "for i in range(0,5):\n",
    "    passwordin=str(input(\"enter password\"))\n",
    "    if passwordin==password:\n",
    "        print(\"you are logged in to system\")\n",
    "        break\n",
    "    else :\n",
    "        if i==4:\n",
    "            print(\"yourkicked out of the system\")\n",
    "            break\n",
    "        print(\"reenter password\")"
   ]
  }
 ],
 "metadata": {
  "kernelspec": {
   "display_name": "Python 3.9.13 64-bit",
   "language": "python",
   "name": "python3"
  },
  "language_info": {
   "codemirror_mode": {
    "name": "ipython",
    "version": 3
   },
   "file_extension": ".py",
   "mimetype": "text/x-python",
   "name": "python",
   "nbconvert_exporter": "python",
   "pygments_lexer": "ipython3",
   "version": "3.9.13"
  },
  "vscode": {
   "interpreter": {
    "hash": "f6246b25e200e4c5124e3e61789ac81350562f0761bbcf92ad9e48654207659c"
   }
  }
 },
 "nbformat": 4,
 "nbformat_minor": 5
}
