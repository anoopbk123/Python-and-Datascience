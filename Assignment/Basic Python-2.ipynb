{
 "cells": [
  {
   "cell_type": "markdown",
   "id": "02b6741a",
   "metadata": {},
   "source": [
    "## Instructions: Do not use any Python libraries and write the following codes from scratch for best learning/ revision."
   ]
  },
  {
   "cell_type": "markdown",
   "id": "e8dff07b",
   "metadata": {},
   "source": [
    "### Q1. Ask the user to enter the number and then print its squares and cubes"
   ]
  },
  {
   "cell_type": "code",
   "execution_count": 20,
   "id": "1eb41e33",
   "metadata": {},
   "outputs": [
    {
     "name": "stdout",
     "output_type": "stream",
     "text": [
      "64\n",
      "512\n"
     ]
    }
   ],
   "source": [
    "n=int(input('enter a number'))\n",
    "print(n*n)\n",
    "print(n**3)\n"
   ]
  },
  {
   "cell_type": "markdown",
   "id": "f0a5dbe6",
   "metadata": {},
   "source": [
    "### Q2. Write a program that asks user to input three numbers with separate input statements. Use the variable named total to store the sum of those numbers and avg to store the average of those nummbers. Then output the numbers along with the total and average. "
   ]
  },
  {
   "cell_type": "code",
   "execution_count": 23,
   "id": "7083b4ae",
   "metadata": {},
   "outputs": [
    {
     "name": "stdout",
     "output_type": "stream",
     "text": [
      "the total of 3.0,4.0,5.0 is  12.0\n",
      "the average of 3.0,4.0,5.0 is  4.0\n"
     ]
    }
   ],
   "source": [
    "#ToDo: Write your code here\n",
    "n1=float(input('enter the 1st number'))\n",
    "n2=float(input('enter the 2nd number'))\n",
    "n3=float(input('enter the 3rd  number'))\n",
    "total=(n1+n2+n3)\n",
    "avg=total/3\n",
    "print('the total of {},{},{} is '.format(n1,n2,n3),total)\n",
    "print('the average of {},{},{} is '.format(n1,n2,n3),avg)"
   ]
  },
  {
   "cell_type": "markdown",
   "id": "0805a7dc",
   "metadata": {},
   "source": [
    "### Q3. Create a salary estimator. Ask user for the basic salary, using it compute HRA as 10% of basic salary, add conveyance allowance as Rs 3500 to it. Output all the salary components on the console."
   ]
  },
  {
   "cell_type": "code",
   "execution_count": 2,
   "id": "eb5962c5",
   "metadata": {},
   "outputs": [
    {
     "name": "stdout",
     "output_type": "stream",
     "text": [
      "Basic Salary   6900.0\n",
      "HRA   690.0\n",
      "conveyance allowance  3500\n",
      "Total Salary  11090.0\n"
     ]
    }
   ],
   "source": [
    "#ToDo: Write your code here\n",
    "bs=float(input(\"enter the basic salary\"))\n",
    "HRA=float((bs*10)/100)\n",
    "callowance=3500\n",
    "ts=float(bs+HRA+callowance)\n",
    "print(\"Basic Salary  \",bs)\n",
    "print(\"HRA  \",HRA)\n",
    "print(\"conveyance allowance \",callowance)\n",
    "print(\"Total Salary \",ts)"
   ]
  },
  {
   "cell_type": "markdown",
   "id": "a93bd789",
   "metadata": {},
   "source": [
    "### Q4. Compute the simple interest using the formula interest = p * n * r / 100 where p is principal, n is tenure of loan, and r is rate of interest. Accept p, n, r from users and then perform the interest calculation."
   ]
  },
  {
   "cell_type": "code",
   "execution_count": 3,
   "id": "097d8a20",
   "metadata": {},
   "outputs": [
    {
     "name": "stdout",
     "output_type": "stream",
     "text": [
      "the simple interest is  900.0\n"
     ]
    }
   ],
   "source": [
    "#ToDo: Write your code here\n",
    "p=float(input(\"enter the principal amount\"))\n",
    "n=float(input(\"enter the tenure of loan\"))\n",
    "r=float(input(\"enter the interest rate\"))\n",
    "interest=float((p*n*r)/100)\n",
    "print('the simple interest is ',interest)"
   ]
  },
  {
   "cell_type": "markdown",
   "id": "549ca061",
   "metadata": {},
   "source": [
    "### Q5. Write a program that asks user weight in kilogram and converts into pounds. There are 2.2 pound in one kilogram."
   ]
  },
  {
   "cell_type": "code",
   "execution_count": 5,
   "id": "7596a1de",
   "metadata": {},
   "outputs": [
    {
     "name": "stdout",
     "output_type": "stream",
     "text": [
      "the weight in pounds- 151.8\n"
     ]
    }
   ],
   "source": [
    "#ToDo: Write your code here\n",
    "weight=float(input('enter the weight in kilogram'))\n",
    "print('the weight in pounds-',weight*2.2)"
   ]
  },
  {
   "cell_type": "markdown",
   "id": "b67baf83",
   "metadata": {},
   "source": [
    "### Q6. If a four digit number is entered through keyboard by user. Write a program to calculate the sum of its digits."
   ]
  },
  {
   "cell_type": "code",
   "execution_count": 9,
   "id": "424654e9",
   "metadata": {},
   "outputs": [
    {
     "name": "stdout",
     "output_type": "stream",
     "text": [
      "5\n"
     ]
    }
   ],
   "source": [
    "#ToDo: Write your code here\n",
    "num=int(input(\"enter a four digit number\"))\n",
    "sum=0\n",
    "int(sum)\n",
    "while num>0:\n",
    "    t=int(num%10)\n",
    "    sum=sum+t\n",
    "    num=num/10\n",
    "print(sum)"
   ]
  },
  {
   "cell_type": "markdown",
   "id": "d4a8e311",
   "metadata": {},
   "source": [
    "### Q7. Explore the way to generate the random numbers using the random module by setting different seed values. "
   ]
  },
  {
   "cell_type": "code",
   "execution_count": 19,
   "id": "65edbec5",
   "metadata": {},
   "outputs": [
    {
     "name": "stdout",
     "output_type": "stream",
     "text": [
      "1802\n"
     ]
    }
   ],
   "source": [
    "#ToDo: Write your code here\n",
    "import random\n",
    "print(random.randint(0,9999))\n"
   ]
  },
  {
   "cell_type": "markdown",
   "id": "2b959d89",
   "metadata": {},
   "source": [
    "### Q8. Explore the contents of math module. Try using following functions from it \n",
    "    exp \n",
    "    floor\n",
    "    ceil\n",
    "    log \n",
    "    factorial"
   ]
  },
  {
   "cell_type": "code",
   "execution_count": 21,
   "id": "0d36f568",
   "metadata": {},
   "outputs": [
    {
     "name": "stdout",
     "output_type": "stream",
     "text": [
      "2.6881171418161356e+43\n",
      "24\n",
      "25\n",
      "1.6397385131955606\n",
      "120\n"
     ]
    }
   ],
   "source": [
    "#ToDo: Write your code here\n",
    "import math\n",
    "n=100\n",
    "print(math.exp(n))\n",
    "print(math.floor(24.67))\n",
    "print(math.ceil(24.65))\n",
    "print(math.log(14,5))\n",
    "print(math.factorial(5))"
   ]
  },
  {
   "cell_type": "markdown",
   "id": "b09f7445",
   "metadata": {},
   "source": [
    "### Q9. Accept string input from user and then print the following with the user entered string\n",
    "    - length of string\n",
    "    - repeat the string 5 times\n",
    "    - first and last characters of the string\n",
    "    - first and last three characters of string\n",
    "    - string backwards\n",
    "    - string with last character removed"
   ]
  },
  {
   "cell_type": "code",
   "execution_count": 2,
   "id": "83f9eea9",
   "metadata": {},
   "outputs": [
    {
     "name": "stdout",
     "output_type": "stream",
     "text": [
      "the lenght of the string is\t 5\n",
      "hellohellohellohellohello\n",
      "the first character is h\n",
      "the last character is  o\n",
      "the reverse of the string is  olleh\n",
      "hell\n"
     ]
    }
   ],
   "source": [
    "#ToDo: Write your code here\n",
    "string=str(input(\"enter a string\"))\n",
    "print(\"the lenght of the string is\\t\",len(string))\n",
    "print(string*5)\n",
    "print('the first character is',string[0])\n",
    "print('the last character is ',string[-1])\n",
    "print('the reverse of the string is ',string[::-1])\n",
    "print(string[:-1])\n"
   ]
  },
  {
   "cell_type": "markdown",
   "id": "e341e5e8",
   "metadata": {},
   "source": [
    "### Q10. Ask the user to input a string , then output the same string in lowercase, uppercase and reverse manner."
   ]
  },
  {
   "cell_type": "code",
   "execution_count": 31,
   "id": "ca3fa669",
   "metadata": {},
   "outputs": [
    {
     "name": "stdout",
     "output_type": "stream",
     "text": [
      "hello\n",
      "HELLO\n",
      "olleh\n"
     ]
    }
   ],
   "source": [
    "#ToDo: Write your code here\n",
    "s=str(input('enter a string'))\n",
    "print(s.lower())\n",
    "print(s.upper())\n",
    "print(s[::-1])"
   ]
  },
  {
   "cell_type": "markdown",
   "id": "71a82976",
   "metadata": {},
   "source": [
    "Write a code snippet thta asks a user for their name and print the name in following pattern <p><b>\n",
    "    B Bi Bil Bill</b></p>"
   ]
  },
  {
   "cell_type": "code",
   "execution_count": 3,
   "id": "b18e2305",
   "metadata": {},
   "outputs": [
    {
     "name": "stdout",
     "output_type": "stream",
     "text": [
      " H HE HEL HELL HELLO 5\n"
     ]
    }
   ],
   "source": [
    "#ToDo: Write your code here\n",
    "name=str(input(\"enter your name\"))\n",
    "name=name.upper()\n",
    "n=len(name)\n",
    "for i in range(0,n+1):\n",
    "    print(name[:i],end=\" \")\n"
   ]
  }
 ],
 "metadata": {
  "kernelspec": {
   "display_name": "Python 3.9.13 64-bit",
   "language": "python",
   "name": "python3"
  },
  "language_info": {
   "codemirror_mode": {
    "name": "ipython",
    "version": 3
   },
   "file_extension": ".py",
   "mimetype": "text/x-python",
   "name": "python",
   "nbconvert_exporter": "python",
   "pygments_lexer": "ipython3",
   "version": "3.9.13"
  },
  "vscode": {
   "interpreter": {
    "hash": "f6246b25e200e4c5124e3e61789ac81350562f0761bbcf92ad9e48654207659c"
   }
  }
 },
 "nbformat": 4,
 "nbformat_minor": 5
}
