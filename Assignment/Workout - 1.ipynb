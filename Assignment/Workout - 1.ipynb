{
 "cells": [
  {
   "cell_type": "code",
   "execution_count": 3,
   "id": "983ebf80",
   "metadata": {},
   "outputs": [
    {
     "data": {
      "text/plain": [
       "[0.5, 0.75, 0.8333333333333334, 0.875]"
      ]
     },
     "execution_count": 3,
     "metadata": {},
     "output_type": "execute_result"
    }
   ],
   "source": [
    "#1. write a program to divide a number from next number in the list\n",
    "lst = [1,2,3,4,5,6,7,8]\n",
    "result = []\n",
    "for idx in range(0, len(lst), 2):\n",
    "    result.append(lst[idx] / lst[idx+1])\n",
    "result"
   ]
  },
  {
   "cell_type": "code",
   "execution_count": 5,
   "id": "bd964383",
   "metadata": {},
   "outputs": [
    {
     "data": {
      "text/plain": [
       "[0.5, 0.75, 0.8333333333333334, 0.875]"
      ]
     },
     "execution_count": 5,
     "metadata": {},
     "output_type": "execute_result"
    }
   ],
   "source": [
    "result = [lst[idx] / lst[idx+1] for idx in range(0, len(lst), 2)]\n",
    "result"
   ]
  },
  {
   "cell_type": "code",
   "execution_count": 11,
   "id": "3910ecb5",
   "metadata": {},
   "outputs": [
    {
     "data": {
      "text/plain": [
       "['v', 'i', 'm', 'a', 'l', ' ', 'k', 'u', 'm', 'a', 'r']"
      ]
     },
     "execution_count": 11,
     "metadata": {},
     "output_type": "execute_result"
    }
   ],
   "source": [
    "#2. write a program to get each character from a sting and store in a list\n",
    "name = 'vimal kumar'\n",
    "nameList = []\n",
    "for chr in name:\n",
    "    nameList.append(chr)\n",
    "nameList"
   ]
  },
  {
   "cell_type": "code",
   "execution_count": 13,
   "id": "a0d0d683",
   "metadata": {},
   "outputs": [
    {
     "data": {
      "text/plain": [
       "['v', 'i', 'm', 'a', 'l', ' ', 'k', 'u', 'm', 'a', 'r']"
      ]
     },
     "execution_count": 13,
     "metadata": {},
     "output_type": "execute_result"
    }
   ],
   "source": [
    "[chr for chr in name]"
   ]
  },
  {
   "cell_type": "code",
   "execution_count": 12,
   "id": "7a95025f",
   "metadata": {},
   "outputs": [
    {
     "name": "stdout",
     "output_type": "stream",
     "text": [
      "['v', 'i', 'm', 'a', 'l', ' ', 'k', 'u', 'm', 'a', 'r']\n"
     ]
    },
    {
     "data": {
      "text/plain": [
       "'vimal kumar'"
      ]
     },
     "execution_count": 12,
     "metadata": {},
     "output_type": "execute_result"
    }
   ],
   "source": [
    "#3. write program to convert a list of characters as one string\n",
    "print(nameList)\n",
    "name = ''\n",
    "for item in nameList:\n",
    "    name = name + item\n",
    "name"
   ]
  },
  {
   "cell_type": "code",
   "execution_count": 20,
   "id": "68ded4c3",
   "metadata": {},
   "outputs": [
    {
     "data": {
      "text/plain": [
       "[8, 6, 10, 12]"
      ]
     },
     "execution_count": 20,
     "metadata": {},
     "output_type": "execute_result"
    }
   ],
   "source": [
    "#4. write a program to add each item within itself from list\n",
    "lst = [4, 3, 5, 6]\n",
    "result = list()\n",
    "for val in lst:\n",
    "    result.append(val + val)\n",
    "result"
   ]
  },
  {
   "cell_type": "code",
   "execution_count": 21,
   "id": "3f23cf21",
   "metadata": {},
   "outputs": [
    {
     "data": {
      "text/plain": [
       "[8, 6, 10, 12]"
      ]
     },
     "execution_count": 21,
     "metadata": {},
     "output_type": "execute_result"
    }
   ],
   "source": [
    "[val + val for val in lst]"
   ]
  },
  {
   "cell_type": "code",
   "execution_count": 22,
   "id": "08c50dcd",
   "metadata": {},
   "outputs": [
    {
     "data": {
      "text/plain": [
       "[8, 6, 10, 12]"
      ]
     },
     "execution_count": 22,
     "metadata": {},
     "output_type": "execute_result"
    }
   ],
   "source": [
    "#5. write a program to add each item within itself from list using lambda\n",
    "result = list(map(lambda nbr: nbr + nbr, lst))\n",
    "result"
   ]
  },
  {
   "cell_type": "code",
   "execution_count": 23,
   "id": "0ff9cafb",
   "metadata": {},
   "outputs": [
    {
     "data": {
      "text/plain": [
       "[4, 6, 8, 78]"
      ]
     },
     "execution_count": 23,
     "metadata": {},
     "output_type": "execute_result"
    }
   ],
   "source": [
    "#6. Write a program to find even numbers from list\n",
    "numbers = [3,5,4,6,8,13,53,57,89,65,78]\n",
    "[nbr for nbr in numbers if nbr % 2 == 0]"
   ]
  },
  {
   "cell_type": "code",
   "execution_count": 24,
   "id": "85d07949",
   "metadata": {},
   "outputs": [
    {
     "data": {
      "text/plain": [
       "[4, 6, 8, 78]"
      ]
     },
     "execution_count": 24,
     "metadata": {},
     "output_type": "execute_result"
    }
   ],
   "source": [
    "evenNumbers = []\n",
    "for nbr in numbers:\n",
    "    if nbr % 2 == 0:\n",
    "        evenNumbers.append(nbr)\n",
    "evenNumbers"
   ]
  },
  {
   "cell_type": "code",
   "execution_count": 27,
   "id": "2de63254",
   "metadata": {},
   "outputs": [
    {
     "data": {
      "text/plain": [
       "[None, None, 4, 6, 8, None, None, None, None, None, 78]"
      ]
     },
     "execution_count": 27,
     "metadata": {},
     "output_type": "execute_result"
    }
   ],
   "source": [
    "def findEven(nbr):\n",
    "    if nbr % 2 ==0:\n",
    "        return nbr\n",
    "    \n",
    "list(map(findEven , numbers))"
   ]
  },
  {
   "cell_type": "code",
   "execution_count": 29,
   "id": "1b5adba9",
   "metadata": {},
   "outputs": [
    {
     "name": "stdout",
     "output_type": "stream",
     "text": [
      "69\n"
     ]
    }
   ],
   "source": [
    "#7. Write a program to get sum of the list values with out using sum()\n",
    "numbers = [5,4,6,7,8,4,23,9,3]\n",
    "total=0\n",
    "for nbr in numbers:\n",
    "    total += nbr # total = total + nbr\n",
    "print(total)"
   ]
  },
  {
   "cell_type": "code",
   "execution_count": 34,
   "id": "34599c9c",
   "metadata": {},
   "outputs": [
    {
     "name": "stdout",
     "output_type": "stream",
     "text": [
      "Enter a interger number6546587\n",
      "Sum of Digits 41\n"
     ]
    }
   ],
   "source": [
    "#8. write a program to get sum of the digites. ex: 147, 1+4+7 = 12 \n",
    "number = int(input('Enter a interger number'))\n",
    "sumOfDigit = 0\n",
    "while number > 0:\n",
    "    #print('Rim',number % 10)\n",
    "    sumOfDigit += (number % 10)\n",
    "    number = number // 10\n",
    "    #print('Co',number)\n",
    "\n",
    "print('Sum of Digits', sumOfDigit)"
   ]
  },
  {
   "cell_type": "code",
   "execution_count": null,
   "id": "fa0db9c8",
   "metadata": {},
   "outputs": [],
   "source": [
    "sumOfDigit = 0\n",
    "for dig in str(number):\n",
    "    sumOfDigit += int(dig)\n",
    "print('Sum of Digits', sumOfDigit)"
   ]
  }
 ],
 "metadata": {
  "kernelspec": {
   "display_name": "Python 3.9.13 64-bit",
   "language": "python",
   "name": "python3"
  },
  "language_info": {
   "codemirror_mode": {
    "name": "ipython",
    "version": 3
   },
   "file_extension": ".py",
   "mimetype": "text/x-python",
   "name": "python",
   "nbconvert_exporter": "python",
   "pygments_lexer": "ipython3",
   "version": "3.9.13"
  },
  "vscode": {
   "interpreter": {
    "hash": "f6246b25e200e4c5124e3e61789ac81350562f0761bbcf92ad9e48654207659c"
   }
  }
 },
 "nbformat": 4,
 "nbformat_minor": 5
}
